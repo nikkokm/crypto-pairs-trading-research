{
 "cells": [
  {
   "cell_type": "code",
   "execution_count": 89,
   "metadata": {},
   "outputs": [
    {
     "name": "stdout",
     "output_type": "stream",
     "text": [
      "Time span in seconds: 105235200.0\n",
      "btcusd\n",
      "From 2017-09-01 00:00:00 to 2018-01-04 00:00:00\n",
      "From 2018-01-04 00:00:00 to 2018-05-09 00:00:00\n",
      "From 2018-05-09 00:00:00 to 2018-09-11 00:00:00\n",
      "From 2018-09-11 00:00:00 to 2019-01-14 00:00:00\n",
      "From 2019-01-14 00:00:00 to 2019-05-19 00:00:00\n",
      "From 2019-05-19 00:00:00 to 2019-09-21 00:00:00\n",
      "From 2019-09-21 00:00:00 to 2020-01-24 00:00:00\n",
      "From 2020-01-24 00:00:00 to 2020-05-28 00:00:00\n",
      "From 2020-05-28 00:00:00 to 2020-09-30 00:00:00\n",
      "From 2020-09-30 00:00:00 to 2021-02-02 00:00:00\n",
      "4963\n",
      "4963\n",
      "ethusd\n",
      "From 2017-09-01 00:00:00 to 2018-01-04 00:00:00\n",
      "From 2018-01-04 00:00:00 to 2018-05-09 00:00:00\n",
      "From 2018-05-09 00:00:00 to 2018-09-11 00:00:00\n",
      "From 2018-09-11 00:00:00 to 2019-01-14 00:00:00\n",
      "From 2019-01-14 00:00:00 to 2019-05-19 00:00:00\n",
      "From 2019-05-19 00:00:00 to 2019-09-21 00:00:00\n",
      "From 2019-09-21 00:00:00 to 2020-01-24 00:00:00\n",
      "From 2020-01-24 00:00:00 to 2020-05-28 00:00:00\n",
      "From 2020-05-28 00:00:00 to 2020-09-30 00:00:00\n",
      "From 2020-09-30 00:00:00 to 2021-02-02 00:00:00\n",
      "4963\n",
      "4963\n"
     ]
    }
   ],
   "source": [
    "import requests\n",
    "from datetime import datetime, timezone\n",
    "import pandas as pd\n",
    "import numpy as np\n",
    "\n",
    "time_window = 21600  # 21600 seconds = 6h\n",
    "limit = 500 #  how many datapoints per request. Max 1000 but if you put it at 1000, it does not work\n",
    "pairs = ['btcusd', 'ethusd']\n",
    "\n",
    "\n",
    "start_date = datetime(2017,9,1,0,0,0,tzinfo=timezone.utc).timestamp()  # 2017-8-18 is the first date bitstamp has ETH/USD data, for some reason\n",
    "end_date = datetime(2021,1,1,0,0,0,tzinfo=timezone.utc).timestamp()\n",
    "\n",
    "time_span = (end_date - start_date)# total amount of seconds between the dates\n",
    "print('Time span in seconds: ' + str(time_span))\n",
    "total_candles = time_span/time_window  # each candle covers time_window seconds, so this is how many candles we have\n",
    "total_requests_required = int(total_candles/limit) +1  # each request can contain max 1000 data points\n",
    "\n",
    "\n",
    "cols = ['timestamp']\n",
    "cols.extend(pairs)  # .append method adds pairs as a list within the cols list\n",
    "\n",
    "df = pd.DataFrame(columns=cols)\n",
    "\n",
    "for i,j in zip(pairs, df.columns[1:]):  # i is for fetching data, j is for inserting into df\n",
    "\n",
    "    timestamp = np.array([])\n",
    "    closing_price = np.array([])\n",
    "\n",
    "    step_size = time_window * limit # can only get 1000 obs per request, so need to break it up\n",
    "    start = start_date\n",
    "    #print('start timestamp: ' + str(start) + ' which is ' + str(datetime.utcfromtimestamp(start)))\n",
    "    print(i)\n",
    "    for k in range(total_requests_required):\n",
    "        print('From ' + str(datetime.utcfromtimestamp(start)) + ' to ' + str(datetime.utcfromtimestamp(start+step_size)))\n",
    "        params = {'start': int(start), 'end': int(start+step_size), 'step': time_window, 'limit': limit}\n",
    "        r = requests.get('https://www.bitstamp.net/api/v2/ohlc/' + i , params=params)\n",
    "        r_dict = r.json()\n",
    "\n",
    "        for q in range(len(r_dict['data']['ohlc'])):\n",
    "            timestamp = np.append(timestamp, float(r_dict['data']['ohlc'][q]['timestamp']))\n",
    "            closing_price = np.append(closing_price, float(r_dict['data']['ohlc'][q]['close']))\n",
    "\n",
    "        start = start + step_size\n",
    "\n",
    "    if i == 'btcusd':\n",
    "        timestamp_copy = timestamp\n",
    "\n",
    "\n",
    "    print(len(timestamp))\n",
    "    print(len(closing_price))\n",
    "    # df[j] = closing_price"
   ]
  },
  {
   "cell_type": "code",
   "execution_count": 72,
   "metadata": {},
   "outputs": [
    {
     "name": "stdout",
     "output_type": "stream",
     "text": [
      "First date in timestamp: 2017-10-02 06:00:00\n",
      "First date in timestamp_copy: 2017-10-02 06:00:00\n",
      "Last date in timestamp: 2019-02-14 00:00:00\n",
      "Last date in timestamp_copy: 2019-02-14 00:00:00\n"
     ]
    }
   ],
   "source": [
    "print('First date in timestamp: ' + str(datetime.utcfromtimestamp(int(timestamp[0]))))\n",
    "print('First date in timestamp_copy: ' + str(datetime.utcfromtimestamp(int(timestamp_copy[0]))))\n",
    "print('Last date in timestamp: ' + str(datetime.utcfromtimestamp(int(timestamp[-1]))))\n",
    "print('Last date in timestamp_copy: ' + str(datetime.utcfromtimestamp(int(timestamp_copy[-1]))))"
   ]
  },
  {
   "cell_type": "code",
   "execution_count": 85,
   "metadata": {},
   "outputs": [],
   "source": [
    "diff = np.setdiff1d(timestamp, timestamp_copy)"
   ]
  },
  {
   "cell_type": "code",
   "execution_count": 86,
   "metadata": {},
   "outputs": [
    {
     "ename": "IndexError",
     "evalue": "index 0 is out of bounds for axis 0 with size 0",
     "output_type": "error",
     "traceback": [
      "\u001b[1;31m---------------------------------------------------------------------------\u001b[0m",
      "\u001b[1;31mIndexError\u001b[0m                                Traceback (most recent call last)",
      "\u001b[1;32m<ipython-input-86-3d4292122205>\u001b[0m in \u001b[0;36m<module>\u001b[1;34m\u001b[0m\n\u001b[1;32m----> 1\u001b[1;33m \u001b[0mdiff\u001b[0m\u001b[1;33m[\u001b[0m\u001b[1;36m0\u001b[0m\u001b[1;33m]\u001b[0m\u001b[1;33m\u001b[0m\u001b[1;33m\u001b[0m\u001b[0m\n\u001b[0m",
      "\u001b[1;31mIndexError\u001b[0m: index 0 is out of bounds for axis 0 with size 0"
     ]
    }
   ],
   "source": [
    "diff[0]"
   ]
  },
  {
   "cell_type": "code",
   "execution_count": 74,
   "metadata": {},
   "outputs": [
    {
     "data": {
      "text/plain": [
       "'2018-06-09 06:00:00'"
      ]
     },
     "execution_count": 74,
     "metadata": {},
     "output_type": "execute_result"
    }
   ],
   "source": [
    "str(datetime.utcfromtimestamp(int(diff[0])))"
   ]
  },
  {
   "cell_type": "code",
   "execution_count": 87,
   "metadata": {},
   "outputs": [
    {
     "data": {
      "text/plain": [
       "array([21600.])"
      ]
     },
     "execution_count": 87,
     "metadata": {},
     "output_type": "execute_result"
    }
   ],
   "source": [
    "np.unique(np.diff(timestamp_copy))"
   ]
  },
  {
   "cell_type": "code",
   "execution_count": 88,
   "metadata": {},
   "outputs": [
    {
     "data": {
      "text/plain": [
       "array([21600.])"
      ]
     },
     "execution_count": 88,
     "metadata": {},
     "output_type": "execute_result"
    }
   ],
   "source": [
    "np.unique(np.diff(timestamp))"
   ]
  },
  {
   "cell_type": "code",
   "execution_count": null,
   "metadata": {},
   "outputs": [],
   "source": []
  },
  {
   "cell_type": "code",
   "execution_count": 82,
   "metadata": {},
   "outputs": [
    {
     "name": "stdout",
     "output_type": "stream",
     "text": [
      "{'data': {'pair': 'BTC/USD', 'ohlc': [{'high': '7686.45', 'timestamp': '1528524000', 'volume': '441.96510443', 'low': '7621.07', 'close': '7643.95', 'open': '7667.60'}]}}\n"
     ]
    }
   ],
   "source": [
    "params2 = {'start': int(diff[0]), 'end': int(diff[0]), 'step': time_window, 'limit': 1}\n",
    "g = requests.get('https://www.bitstamp.net/api/v2/ohlc/btcusd', params=params2)\n",
    "print(g.json())\n"
   ]
  },
  {
   "cell_type": "code",
   "execution_count": null,
   "metadata": {},
   "outputs": [],
   "source": []
  }
 ],
 "metadata": {
  "kernelspec": {
   "display_name": "Python 3",
   "language": "python",
   "name": "python3"
  },
  "language_info": {
   "codemirror_mode": {
    "name": "ipython",
    "version": 3
   },
   "file_extension": ".py",
   "mimetype": "text/x-python",
   "name": "python",
   "nbconvert_exporter": "python",
   "pygments_lexer": "ipython3",
   "version": "3.7.7"
  }
 },
 "nbformat": 4,
 "nbformat_minor": 4
}
